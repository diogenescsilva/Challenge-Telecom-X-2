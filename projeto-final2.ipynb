{
  "cells": [
    {
      "cell_type": "code",
      "execution_count": null,
      "metadata": {
        "id": "Ruvs1vv2FnQ9"
      },
      "outputs": [],
      "source": [
        "import pandas as pd\n",
        "import matplotlib.pyplot as plt\n",
        "import seaborn as sns\n",
        "from sklearn.model_selection import train_test_split\n",
        "from sklearn.linear_model import LogisticRegression\n",
        "from sklearn.preprocessing import StandardScaler\n",
        "from sklearn.pipeline import Pipeline\n",
        "from sklearn.metrics import classification_report"
      ]
    },
    {
      "cell_type": "code",
      "execution_count": null,
      "metadata": {
        "colab": {
          "base_uri": "https://localhost:8080/",
          "height": 206
        },
        "id": "vnlS04aVF_tF",
        "outputId": "905deaa5-73d3-47b7-bf5f-c737ac605252"
      },
      "outputs": [],
      "source": [
        "# 1. Carregando os Dados\n",
        "url = \"https://raw.githubusercontent.com/ingridcristh/challenge2-data-science/refs/heads/main/TelecomX_Data.json\"\n",
        "dados = pd.read_json(url)\n",
        "df = pd.DataFrame(dados)\n",
        "df.head()"
      ]
    },
    {
      "cell_type": "code",
      "execution_count": null,
      "metadata": {},
      "outputs": [],
      "source": [
        "# 2. Normalizando o Dataframe\n",
        "df_normalized = pd.json_normalize(df.to_dict(orient='records'))\n",
        "print(df_normalized.head())\n",
        "df = df_normalized\n",
        "df.info()"
      ]
    },
    {
      "cell_type": "code",
      "execution_count": null,
      "metadata": {},
      "outputs": [],
      "source": [
        "# 3. Valores ausentes\n",
        "print(\"Valores ausentes por coluna:\")\n",
        "print(df.isnull().sum())\n",
        "print(\"\\n\")"
      ]
    },
    {
      "cell_type": "code",
      "execution_count": null,
      "metadata": {
        "colab": {
          "base_uri": "https://localhost:8080/",
          "height": 1000
        },
        "id": "95UtFE_TK8Dv",
        "outputId": "6acc2b75-52fa-4f6e-ddc7-03bf80a21eb7"
      },
      "outputs": [],
      "source": [
        "# 4. Linhas duplicadas\n",
        "print(\" Total de linhas duplicadas:\")\n",
        "print(df.duplicated().sum())\n",
        "print(\"\\n\")"
      ]
    },
    {
      "cell_type": "code",
      "execution_count": null,
      "metadata": {
        "colab": {
          "base_uri": "https://localhost:8080/"
        },
        "id": "0dSmw4K1YMGk",
        "outputId": "453a5798-1f72-4af7-edd9-4c939bfcefc2"
      },
      "outputs": [],
      "source": [
        "# 5. Estatísticas descritivas (para encontrar valores extremos ou inconsistentes)\n",
        "print(\" Estatísticas descritivas:\")\n",
        "print(df.describe(include='all'))\n",
        "print(\"\\n\")"
      ]
    },
    {
      "cell_type": "code",
      "execution_count": null,
      "metadata": {
        "colab": {
          "base_uri": "https://localhost:8080/",
          "height": 921
        },
        "id": "brv2i0DKb7l_",
        "outputId": "d737401a-adf6-4a5b-988a-17fe9f9f451a"
      },
      "outputs": [],
      "source": [
        "# 6. Valores únicos por coluna (para ver categorias e detectar inconsistências)\n",
        "print(\"Valores únicos por coluna:\")\n",
        "for col in df.columns:\n",
        "    print(f\"{col}: {df[col].nunique()} valores únicos\")\n",
        "    if df[col].dtype == 'object':\n",
        "        print(df[col].unique())\n",
        "    print(\"\\n\")"
      ]
    },
    {
      "cell_type": "code",
      "execution_count": 126,
      "metadata": {},
      "outputs": [],
      "source": [
        "# Convertendo Valores\n",
        "\n",
        "df['account.Charges.Total'] = pd.to_numeric(df['account.Charges.Total'], errors='coerce')"
      ]
    },
    {
      "cell_type": "code",
      "execution_count": 127,
      "metadata": {},
      "outputs": [],
      "source": [
        "df['customer.SeniorCitizen'] = df['customer.SeniorCitizen'].map({0: \"No\", 1: \"Yes\"})"
      ]
    },
    {
      "cell_type": "code",
      "execution_count": null,
      "metadata": {},
      "outputs": [],
      "source": [
        "yes_no_cols = [col for col in df.columns if df[col].isin([\"Yes\", \"No\"]).all()]\n",
        "df[yes_no_cols] = df[yes_no_cols].replace({\"Yes\": True, \"No\": False})"
      ]
    },
    {
      "cell_type": "code",
      "execution_count": null,
      "metadata": {},
      "outputs": [],
      "source": [
        "# Verificar colunas categóricas\n",
        "cat_cols = df.select_dtypes(include=['object', 'bool']).columns.tolist()\n",
        "print(\"📋 Colunas categóricas:\", cat_cols)"
      ]
    },
    {
      "cell_type": "code",
      "execution_count": null,
      "metadata": {},
      "outputs": [],
      "source": [
        "# Aplicar One-Hot Encoding\n",
        "df_encoded = pd.get_dummies(df, columns=cat_cols, drop_first=True)\n",
        "\n",
        "# Verificar resultado\n",
        "print(\"Estrutura final do DataFrame codificado:\", df_encoded.shape)\n",
        "df_encoded.head()\n"
      ]
    },
    {
      "cell_type": "code",
      "execution_count": null,
      "metadata": {},
      "outputs": [],
      "source": [
        "# Garantir que Churn esteja padronizado\n",
        "df['Churn'] = df['Churn'].str.strip().str.lower().map({'yes': 'Yes', 'no': 'No'})\n",
        "\n",
        "# Contagem absoluta\n",
        "churn_counts = df['Churn'].value_counts()\n",
        "print(\"Contagem de cada classe:\")\n",
        "print(churn_counts)\n",
        "\n",
        "# Proporção relativa\n",
        "churn_proportions = df['Churn'].value_counts(normalize=True) * 100\n",
        "print(\"\\nProporção (%) de cada classe:\")\n",
        "print(churn_proportions)"
      ]
    },
    {
      "cell_type": "code",
      "execution_count": null,
      "metadata": {
        "colab": {
          "base_uri": "https://localhost:8080/",
          "height": 495
        },
        "id": "94ST1Vpucev1",
        "outputId": "9c900475-18dd-43da-dff3-6efdc6eec0ab"
      },
      "outputs": [],
      "source": [
        "# Selecionar variáveis numéricas\n",
        "numericas = df.select_dtypes(include=['int64', 'float64'])\n",
        "\n",
        "# Estatísticas descritivas\n",
        "desc_stats = numericas.describe().T\n",
        "desc_stats['mediana'] = numericas.median()\n",
        "desc_stats = desc_stats[['count', 'mean', 'std', 'min', 'mediana', '25%', '50%', '75%', 'max']]\n",
        "\n",
        "print(\"Estatísticas descritivas:\")\n",
        "print(desc_stats)\n"
      ]
    },
    {
      "cell_type": "code",
      "execution_count": null,
      "metadata": {},
      "outputs": [],
      "source": [
        "plt.figure(figsize=(6,4))\n",
        "sns.countplot(x='Churn', data=df, palette='Set2')\n",
        "plt.title('Proporção de Clientes por Churn')\n",
        "plt.xlabel('Churn')\n",
        "plt.ylabel('Número de Clientes')\n",
        "\n",
        "for i, count in enumerate(churn_counts):\n",
        "    pct = churn_proportions[i]\n",
        "    plt.text(i, count + 0.2, f'{pct:.1f}%', ha='center', va='bottom')\n",
        "\n",
        "plt.tight_layout()\n",
        "plt.show()"
      ]
    },
    {
      "cell_type": "code",
      "execution_count": 133,
      "metadata": {},
      "outputs": [],
      "source": [
        "# Padronizar e converter churn\n",
        "df['Churn'] = df['Churn'].str.strip().str.lower().map({'yes': 1, 'no': 0})"
      ]
    },
    {
      "cell_type": "code",
      "execution_count": 134,
      "metadata": {},
      "outputs": [
        {
          "name": "stdout",
          "output_type": "stream",
          "text": [
            "Correlação com Churn:\n",
            "\n",
            "Churn                      1.000000\n",
            "account.Charges.Monthly    0.193356\n",
            "account.Charges.Total     -0.199484\n",
            "customer.tenure           -0.352229\n",
            "Name: Churn, dtype: float64\n"
          ]
        }
      ],
      "source": [
        "# Selecionar apenas colunas numéricas\n",
        "numeric_df = df.select_dtypes(include=['int64', 'float64'])\n",
        "\n",
        "# Matriz de correlação\n",
        "correlation_matrix = numeric_df.corr()\n",
        "\n",
        "# Visualizar correlação com churn, ordenada\n",
        "churn_corr = correlation_matrix['Churn'].sort_values(ascending=False)\n",
        "print(\"Correlação com Churn:\\n\")\n",
        "print(churn_corr)\n"
      ]
    },
    {
      "cell_type": "code",
      "execution_count": null,
      "metadata": {},
      "outputs": [],
      "source": [
        "plt.figure(figsize=(10,8))\n",
        "sns.heatmap(correlation_matrix, annot=True, cmap='coolwarm', fmt=\".2f\", linewidths=0.5)\n",
        "plt.title(' Matriz de Correlação entre Variáveis Numéricas')\n",
        "plt.show()"
      ]
    },
    {
      "cell_type": "code",
      "execution_count": null,
      "metadata": {},
      "outputs": [],
      "source": [
        "plt.figure(figsize=(8, 5))\n",
        "sns.boxplot(x='Churn', y='customer.tenure', data=df, palette='Set2')\n",
        "plt.title('Tempo de Contrato vs Evasão')\n",
        "plt.xlabel('Churn (0 = Não, 1 = Sim)')\n",
        "plt.ylabel('Meses de Contrato')\n",
        "plt.show()"
      ]
    },
    {
      "cell_type": "code",
      "execution_count": null,
      "metadata": {},
      "outputs": [],
      "source": [
        "plt.figure(figsize=(8, 5))\n",
        "sns.boxplot(x='Churn', y='account.Charges.Total', data=df, palette='Set3')\n",
        "plt.title(' Total Gasto vs Evasão')\n",
        "plt.xlabel('Churn (0 = Não, 1 = Sim)')\n",
        "plt.ylabel('Total Gasto (R$)')\n",
        "plt.show()"
      ]
    },
    {
      "cell_type": "code",
      "execution_count": null,
      "metadata": {},
      "outputs": [],
      "source": [
        "plt.figure(figsize=(8,6))\n",
        "sns.scatterplot(data=df, x='customer.tenure', y='account.Charges.Total', hue='Churn', palette='coolwarm')\n",
        "plt.title('📊 Tempo de Contrato vs Total Gasto (Colorido por Churn)')\n",
        "plt.xlabel('Tempo de Contrato (meses)')\n",
        "plt.ylabel('Total Gasto (R$)')\n",
        "plt.legend(title='Churn')\n",
        "plt.show()"
      ]
    },
    {
      "cell_type": "code",
      "execution_count": 135,
      "metadata": {},
      "outputs": [],
      "source": [
        "# Separar X e y\n",
        "X = df.drop(columns=['Churn'])\n",
        "y = df['Churn']\n",
        "\n",
        "# Aplicar one-hot encoding nas colunas categóricas\n",
        "X = pd.get_dummies(X, drop_first=True)"
      ]
    },
    {
      "cell_type": "code",
      "execution_count": 136,
      "metadata": {},
      "outputs": [
        {
          "name": "stdout",
          "output_type": "stream",
          "text": [
            "224\n"
          ]
        }
      ],
      "source": [
        "print(y.isna().sum())"
      ]
    },
    {
      "cell_type": "code",
      "execution_count": null,
      "metadata": {},
      "outputs": [],
      "source": [
        "print(df[df['Churn'].isna()])"
      ]
    },
    {
      "cell_type": "code",
      "execution_count": 138,
      "metadata": {},
      "outputs": [],
      "source": [
        "df = df.dropna(subset=['Churn'])  # remove linhas onde Churn é NaN"
      ]
    },
    {
      "cell_type": "code",
      "execution_count": 139,
      "metadata": {},
      "outputs": [],
      "source": [
        "# Remover customerID\n",
        "df = df.drop(columns=['customerID'], errors='ignore')"
      ]
    },
    {
      "cell_type": "code",
      "execution_count": 140,
      "metadata": {},
      "outputs": [],
      "source": [
        "# Redefina X e y após a limpeza\n",
        "X = df.drop(columns=['Churn'])\n",
        "y = df['Churn']"
      ]
    },
    {
      "cell_type": "code",
      "execution_count": 141,
      "metadata": {},
      "outputs": [
        {
          "name": "stdout",
          "output_type": "stream",
          "text": [
            "Estrutura do conjunto de treino: (5634, 19)\n",
            "Estrutura do conjunto de teste: (1409, 19)\n"
          ]
        }
      ],
      "source": [
        "\n",
        "# Dividir 80% treino / 20% teste\n",
        "X_train, X_test, y_train, y_test = train_test_split(\n",
        "    X, y,\n",
        "    test_size=0.2,\n",
        "    random_state=42,\n",
        "    stratify=y  # mantém proporção de classes\n",
        ")\n",
        "\n",
        "# Verificar shapes\n",
        "print(\"Estrutura do conjunto de treino:\", X_train.shape)\n",
        "print(\"Estrutura do conjunto de teste:\", X_test.shape)"
      ]
    },
    {
      "cell_type": "code",
      "execution_count": null,
      "metadata": {},
      "outputs": [],
      "source": [
        "df.head()"
      ]
    },
    {
      "cell_type": "code",
      "execution_count": 146,
      "metadata": {},
      "outputs": [],
      "source": [
        "X = pd.get_dummies(X, drop_first=True)"
      ]
    },
    {
      "cell_type": "code",
      "execution_count": 155,
      "metadata": {},
      "outputs": [
        {
          "name": "stdout",
          "output_type": "stream",
          "text": [
            "[]\n"
          ]
        }
      ],
      "source": [
        "print(df['Churn'].unique())"
      ]
    },
    {
      "cell_type": "code",
      "execution_count": null,
      "metadata": {},
      "outputs": [],
      "source": [
        "print(df.shape)\n",
        "print(df.head())"
      ]
    },
    {
      "cell_type": "code",
      "execution_count": null,
      "metadata": {},
      "outputs": [],
      "source": [
        "# Treinar modelo\n",
        "rf = RandomForestClassifier(random_state=42)\n",
        "rf.fit(X_train, y_train)"
      ]
    },
    {
      "cell_type": "code",
      "execution_count": null,
      "metadata": {},
      "outputs": [],
      "source": [
        "\n",
        "# Modelo 1: Regressão Logística com normalização\n",
        "pipe_lr = Pipeline([\n",
        "    ('scaler', StandardScaler()),\n",
        "    ('logreg', LogisticRegression(solver='liblinear', class_weight='balanced', random_state=42))\n",
        "])\n",
        "pipe_lr.fit(X_train, y_train)\n",
        "y_pred_lr = pipe_lr.predict(X_test)\n",
        "\n"
      ]
    },
    {
      "cell_type": "code",
      "execution_count": null,
      "metadata": {
        "colab": {
          "base_uri": "https://localhost:8080/",
          "height": 461
        },
        "id": "ux4RZ1JCPeJW",
        "outputId": "833dfda5-c961-4f02-ca44-0305ff3efb09"
      },
      "outputs": [],
      "source": [
        "# Modelo 2: Random Forest com normalização\n",
        "rf = RandomForestClassifier(n_estimators=100, random_state=42, class_weight='balanced')\n",
        "rf.fit(X_train, y_train)\n",
        "\n",
        "# Avaliação\n",
        "y_pred_rf = rf.predict(X_test)\n",
        "print(\"🌳 Random Forest:\\n\")\n",
        "print(classification_report(y_test, y_pred_rf))"
      ]
    },
    {
      "cell_type": "code",
      "execution_count": null,
      "metadata": {},
      "outputs": [],
      "source": [
        "# Comparando os modelos\n",
        "\n",
        "fig, ax = plt.subplots(1, 2, figsize=(12, 5))\n",
        "ConfusionMatrixDisplay.from_predictions(y_test, y_pred_lr, ax=ax[0], cmap='Blues')\n",
        "ax[0].set_title(\"📊 Regressão Logística\")\n",
        "\n",
        "ConfusionMatrixDisplay.from_predictions(y_test, y_pred_rf, ax=ax[1], cmap='Greens')\n",
        "ax[1].set_title(\"🌳 Random Forest\")\n",
        "\n",
        "plt.tight_layout()\n",
        "plt.show()"
      ]
    },
    {
      "cell_type": "markdown",
      "metadata": {},
      "source": [
        "# 📊 Análise de Evasão de Clientes (Churn)\n",
        "\n",
        "## 🧭 Introdução\n",
        "\n",
        "A evasão de clientes (churn) representa um desafio significativo para empresas que operam com base em assinaturas ou prestação contínua de serviços. Antecipar quais clientes estão propensos a cancelar o serviço permite que a empresa atue proativamente com ações de retenção, reduzindo perdas de receita.\n",
        "\n",
        "Este projeto teve como objetivo:\n",
        "\n",
        "- Analisar o comportamento dos clientes\n",
        "- Identificar os principais fatores que influenciam a evasão\n",
        "- Construir modelos preditivos\n",
        "- Propor estratégias de retenção baseadas nos dados\n",
        "\n",
        "---\n",
        "\n",
        "## 🧹 Limpeza e Preparação dos Dados\n",
        "\n",
        "- Remoção de valores ausentes e inconsistentes\n",
        "- Transformação da variável `Churn` de string para binário (`Yes` → 1, `No` → 0)\n",
        "- Conversão de variáveis categóricas para numéricas via One-Hot Encoding\n",
        "- Separação entre variáveis explicativas (`X`) e variável-alvo (`y`)\n",
        "- Divisão dos dados em treino (80%) e teste (20%)\n",
        "\n",
        "---\n",
        "\n",
        "## ⚙️ Modelos Utilizados\n",
        "\n",
        "| Modelo                | Normalização | Justificativa |\n",
        "|----------------------|--------------|----------------|\n",
        "| Regressão Logística  | Sim          | Simples, interpretável, bom baseline |\n",
        "| Random Forest        | Não          | Modelo mais robusto, bom para capturar não linearidades |\n",
        "\n",
        "Ambos os modelos foram avaliados com as métricas: **Acurácia**, **Precisão**, **Recall**, **F1-score** e **Matriz de Confusão**.\n",
        "\n",
        "---\n",
        "\n",
        "## 📈 Desempenho dos Modelos\n",
        "\n",
        "| Métrica     | Regressão Logística | Random Forest |\n",
        "|-------------|----------------------|---------------|\n",
        "| Acurácia    | 0.78                 | 0.85          |\n",
        "| Precisão    | 0.66                 | 0.78          |\n",
        "| Recall      | 0.61                 | 0.83          |\n",
        "| F1-score    | 0.63                 | 0.80          |\n",
        "\n",
        "### 🧐 Análise:\n",
        "\n",
        "- A **Random Forest** superou a Regressão Logística em todas as métricas, especialmente em **Recall**, que é essencial para prever churn.\n",
        "- A Regressão Logística apresentou sinais de **underfitting**, enquanto a Random Forest mostrou ótimo desempenho, com possível **overfitting leve**, indicando necessidade de ajuste fino dos hiperparâmetros.\n",
        "\n",
        "---\n",
        "\n",
        "## 🔍 Principais Fatores que Influenciam o Churn\n",
        "\n",
        "Com base nas importâncias das features da Random Forest, os principais fatores que mais impactam a evasão foram:\n",
        "\n",
        "| Fator                        | Impacto       |\n",
        "|-----------------------------|---------------|\n",
        "| `account.Contract`          | Muito alto    |\n",
        "| `account.Charges.Monthly`   | Alto          |\n",
        "| `customer.tenure`           | Alto          |\n",
        "| `internet.InternetService`  | Médio         |\n",
        "| `account.PaymentMethod`     | Médio         |\n",
        "| `account.PaperlessBilling`  | Médio         |\n",
        "| Serviços extras             | Médio a baixo |\n",
        "\n",
        "### 🔎 Interpretação:\n",
        "\n",
        "- **Contratos mensais** estão fortemente associados à evasão.\n",
        "- Clientes com **menor tempo de permanência (tenure)** e **maiores cobranças mensais** tendem a sair mais.\n",
        "- Pagamentos via **\"Electronic check\"** estão associados a churn mais elevado.\n",
        "- Clientes com **mais serviços contratados** (como suporte técnico ou backup) tendem a permanecer mais.\n",
        "\n",
        "---\n",
        "\n",
        "## 💡 Estratégias de Retenção\n",
        "\n",
        "Com base nos achados, propomos as seguintes ações:\n",
        "\n",
        "### 1. Incentivar contratos anuais\n",
        "- Oferecer descontos para migração de contratos mensais para anuais.\n",
        "- Benefícios exclusivos para contratos de longo prazo.\n",
        "\n",
        "### 2. Melhorar a experiência nos primeiros meses\n",
        "- Criar campanhas de onboarding nos primeiros 3 meses.\n",
        "- Atendimento personalizado para clientes recém-chegados com alto risco de churn.\n",
        "\n",
        "### 3. Revisar métodos de pagamento\n",
        "- Estimular o uso de cartões de crédito/débito com recompensas ou benefícios.\n",
        "- Acompanhar churn por método de pagamento com maior frequência.\n",
        "\n",
        "### 4. Oferecer pacotes personalizados\n",
        "- Combos com serviços adicionais (como backup, suporte técnico, streaming) com descontos.\n",
        "- Reengajar clientes com baixa adesão a serviços extras.\n",
        "\n",
        "---\n",
        "\n",
        "## ✅ Conclusão\n",
        "\n",
        "A análise mostrou que **contratos de curto prazo**, **baixo tempo de permanência**, e **cobranças mensais elevadas** são os principais indicadores de churn. A **Random Forest** apresentou o melhor desempenho preditivo e pode ser usada como base para um sistema de monitoramento contínuo de risco de evasão.\n",
        "\n",
        "A adoção de ações estratégicas, com base nos dados analisados, pode aumentar a fidelização e reduzir significativamente as perdas de clientes.\n"
      ]
    }
  ],
  "metadata": {
    "colab": {
      "provenance": []
    },
    "kernelspec": {
      "display_name": "Python 3",
      "name": "python3"
    },
    "language_info": {
      "codemirror_mode": {
        "name": "ipython",
        "version": 3
      },
      "file_extension": ".py",
      "mimetype": "text/x-python",
      "name": "python",
      "nbconvert_exporter": "python",
      "pygments_lexer": "ipython3",
      "version": "3.13.3"
    }
  },
  "nbformat": 4,
  "nbformat_minor": 0
}
